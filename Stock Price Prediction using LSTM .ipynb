{
 "cells": [
  {
   "cell_type": "markdown",
   "id": "eb999288",
   "metadata": {},
   "source": [
    "# STOCK PRICE PREDICTION USING LSTM "
   ]
  },
  {
   "cell_type": "markdown",
   "id": "5e1377dc",
   "metadata": {},
   "source": [
    "Dataset of Microsoft Company From finance.yahoo.com \n",
    "@https://finance.yahoo.com/quote/MSFT/history/"
   ]
  },
  {
   "cell_type": "markdown",
   "id": "05865590",
   "metadata": {},
   "source": [
    "Presented by Vaishnavi Nikam"
   ]
  },
  {
   "cell_type": "markdown",
   "id": "6cd6fec0",
   "metadata": {},
   "source": [
    "#Importing Libraries and Dataset"
   ]
  },
  {
   "cell_type": "code",
   "execution_count": 1,
   "id": "e91b7047",
   "metadata": {},
   "outputs": [],
   "source": [
    "import numpy as np\n",
    "import pandas as pd\n",
    "from sklearn.preprocessing import MinMaxScaler\n",
    "import matplotlib.pyplot as plt\n"
   ]
  },
  {
   "cell_type": "code",
   "execution_count": 2,
   "id": "0ad1514b",
   "metadata": {},
   "outputs": [],
   "source": [
    "import torch\n",
    "import torch.nn as nn"
   ]
  },
  {
   "cell_type": "code",
   "execution_count": 3,
   "id": "098978a1",
   "metadata": {},
   "outputs": [],
   "source": [
    "# Import the Dataset\n",
    "df = pd.read_csv('C:\\\\Users\\\\Admin\\\\Downloads\\\\MSFT.csv')"
   ]
  },
  {
   "cell_type": "code",
   "execution_count": null,
   "id": "2e7b1559",
   "metadata": {},
   "outputs": [],
   "source": [
    "#Display Top 5 Rows of Dataset"
   ]
  },
  {
   "cell_type": "code",
   "execution_count": 4,
   "id": "753caaf0",
   "metadata": {},
   "outputs": [
    {
     "data": {
      "text/html": [
       "<div>\n",
       "<style scoped>\n",
       "    .dataframe tbody tr th:only-of-type {\n",
       "        vertical-align: middle;\n",
       "    }\n",
       "\n",
       "    .dataframe tbody tr th {\n",
       "        vertical-align: top;\n",
       "    }\n",
       "\n",
       "    .dataframe thead th {\n",
       "        text-align: right;\n",
       "    }\n",
       "</style>\n",
       "<table border=\"1\" class=\"dataframe\">\n",
       "  <thead>\n",
       "    <tr style=\"text-align: right;\">\n",
       "      <th></th>\n",
       "      <th>Date</th>\n",
       "      <th>Open</th>\n",
       "      <th>High</th>\n",
       "      <th>Low</th>\n",
       "      <th>Close</th>\n",
       "      <th>Adj Close</th>\n",
       "      <th>Volume</th>\n",
       "    </tr>\n",
       "  </thead>\n",
       "  <tbody>\n",
       "    <tr>\n",
       "      <th>0</th>\n",
       "      <td>2022-11-09</td>\n",
       "      <td>227.369995</td>\n",
       "      <td>228.630005</td>\n",
       "      <td>224.330002</td>\n",
       "      <td>224.509995</td>\n",
       "      <td>222.361801</td>\n",
       "      <td>27852900</td>\n",
       "    </tr>\n",
       "    <tr>\n",
       "      <th>1</th>\n",
       "      <td>2022-11-10</td>\n",
       "      <td>235.429993</td>\n",
       "      <td>243.330002</td>\n",
       "      <td>235.000000</td>\n",
       "      <td>242.979996</td>\n",
       "      <td>240.655075</td>\n",
       "      <td>46268000</td>\n",
       "    </tr>\n",
       "    <tr>\n",
       "      <th>2</th>\n",
       "      <td>2022-11-11</td>\n",
       "      <td>242.990005</td>\n",
       "      <td>247.990005</td>\n",
       "      <td>241.929993</td>\n",
       "      <td>247.110001</td>\n",
       "      <td>244.745560</td>\n",
       "      <td>34620200</td>\n",
       "    </tr>\n",
       "    <tr>\n",
       "      <th>3</th>\n",
       "      <td>2022-11-14</td>\n",
       "      <td>241.990005</td>\n",
       "      <td>243.910004</td>\n",
       "      <td>239.210007</td>\n",
       "      <td>241.550003</td>\n",
       "      <td>239.238754</td>\n",
       "      <td>31123300</td>\n",
       "    </tr>\n",
       "    <tr>\n",
       "      <th>4</th>\n",
       "      <td>2022-11-15</td>\n",
       "      <td>245.660004</td>\n",
       "      <td>247.000000</td>\n",
       "      <td>240.029999</td>\n",
       "      <td>241.970001</td>\n",
       "      <td>239.654739</td>\n",
       "      <td>31390100</td>\n",
       "    </tr>\n",
       "  </tbody>\n",
       "</table>\n",
       "</div>"
      ],
      "text/plain": [
       "         Date        Open        High         Low       Close   Adj Close  \\\n",
       "0  2022-11-09  227.369995  228.630005  224.330002  224.509995  222.361801   \n",
       "1  2022-11-10  235.429993  243.330002  235.000000  242.979996  240.655075   \n",
       "2  2022-11-11  242.990005  247.990005  241.929993  247.110001  244.745560   \n",
       "3  2022-11-14  241.990005  243.910004  239.210007  241.550003  239.238754   \n",
       "4  2022-11-15  245.660004  247.000000  240.029999  241.970001  239.654739   \n",
       "\n",
       "     Volume  \n",
       "0  27852900  \n",
       "1  46268000  \n",
       "2  34620200  \n",
       "3  31123300  \n",
       "4  31390100  "
      ]
     },
     "execution_count": 4,
     "metadata": {},
     "output_type": "execute_result"
    }
   ],
   "source": [
    "df.head()"
   ]
  },
  {
   "cell_type": "code",
   "execution_count": null,
   "id": "f1e9feaa",
   "metadata": {},
   "outputs": [],
   "source": [
    "#Display Last 5 Rows of Dataset"
   ]
  },
  {
   "cell_type": "code",
   "execution_count": 5,
   "id": "13fb0547",
   "metadata": {},
   "outputs": [
    {
     "data": {
      "text/html": [
       "<div>\n",
       "<style scoped>\n",
       "    .dataframe tbody tr th:only-of-type {\n",
       "        vertical-align: middle;\n",
       "    }\n",
       "\n",
       "    .dataframe tbody tr th {\n",
       "        vertical-align: top;\n",
       "    }\n",
       "\n",
       "    .dataframe thead th {\n",
       "        text-align: right;\n",
       "    }\n",
       "</style>\n",
       "<table border=\"1\" class=\"dataframe\">\n",
       "  <thead>\n",
       "    <tr style=\"text-align: right;\">\n",
       "      <th></th>\n",
       "      <th>Date</th>\n",
       "      <th>Open</th>\n",
       "      <th>High</th>\n",
       "      <th>Low</th>\n",
       "      <th>Close</th>\n",
       "      <th>Adj Close</th>\n",
       "      <th>Volume</th>\n",
       "    </tr>\n",
       "  </thead>\n",
       "  <tbody>\n",
       "    <tr>\n",
       "      <th>246</th>\n",
       "      <td>2023-11-02</td>\n",
       "      <td>347.239990</td>\n",
       "      <td>348.829987</td>\n",
       "      <td>344.769989</td>\n",
       "      <td>348.320007</td>\n",
       "      <td>348.320007</td>\n",
       "      <td>24348100</td>\n",
       "    </tr>\n",
       "    <tr>\n",
       "      <th>247</th>\n",
       "      <td>2023-11-03</td>\n",
       "      <td>349.630005</td>\n",
       "      <td>354.390015</td>\n",
       "      <td>347.329987</td>\n",
       "      <td>352.799988</td>\n",
       "      <td>352.799988</td>\n",
       "      <td>23624000</td>\n",
       "    </tr>\n",
       "    <tr>\n",
       "      <th>248</th>\n",
       "      <td>2023-11-06</td>\n",
       "      <td>353.450012</td>\n",
       "      <td>357.540009</td>\n",
       "      <td>353.350006</td>\n",
       "      <td>356.529999</td>\n",
       "      <td>356.529999</td>\n",
       "      <td>23828300</td>\n",
       "    </tr>\n",
       "    <tr>\n",
       "      <th>249</th>\n",
       "      <td>2023-11-07</td>\n",
       "      <td>359.399994</td>\n",
       "      <td>362.459991</td>\n",
       "      <td>357.630005</td>\n",
       "      <td>360.529999</td>\n",
       "      <td>360.529999</td>\n",
       "      <td>25833900</td>\n",
       "    </tr>\n",
       "    <tr>\n",
       "      <th>250</th>\n",
       "      <td>2023-11-08</td>\n",
       "      <td>361.679993</td>\n",
       "      <td>363.869995</td>\n",
       "      <td>360.549988</td>\n",
       "      <td>363.200012</td>\n",
       "      <td>363.200012</td>\n",
       "      <td>26747900</td>\n",
       "    </tr>\n",
       "  </tbody>\n",
       "</table>\n",
       "</div>"
      ],
      "text/plain": [
       "           Date        Open        High         Low       Close   Adj Close  \\\n",
       "246  2023-11-02  347.239990  348.829987  344.769989  348.320007  348.320007   \n",
       "247  2023-11-03  349.630005  354.390015  347.329987  352.799988  352.799988   \n",
       "248  2023-11-06  353.450012  357.540009  353.350006  356.529999  356.529999   \n",
       "249  2023-11-07  359.399994  362.459991  357.630005  360.529999  360.529999   \n",
       "250  2023-11-08  361.679993  363.869995  360.549988  363.200012  363.200012   \n",
       "\n",
       "       Volume  \n",
       "246  24348100  \n",
       "247  23624000  \n",
       "248  23828300  \n",
       "249  25833900  \n",
       "250  26747900  "
      ]
     },
     "execution_count": 5,
     "metadata": {},
     "output_type": "execute_result"
    }
   ],
   "source": [
    "df.tail()"
   ]
  },
  {
   "cell_type": "code",
   "execution_count": null,
   "id": "f3611017",
   "metadata": {},
   "outputs": [],
   "source": [
    "#Find shape of dataset"
   ]
  },
  {
   "cell_type": "code",
   "execution_count": 6,
   "id": "a502bd88",
   "metadata": {},
   "outputs": [
    {
     "data": {
      "text/plain": [
       "(251, 7)"
      ]
     },
     "execution_count": 6,
     "metadata": {},
     "output_type": "execute_result"
    }
   ],
   "source": [
    "df.shape"
   ]
  },
  {
   "cell_type": "code",
   "execution_count": null,
   "id": "1e3f7d21",
   "metadata": {},
   "outputs": [],
   "source": [
    "#Check datatypes of each column"
   ]
  },
  {
   "cell_type": "code",
   "execution_count": 8,
   "id": "f6709d63",
   "metadata": {},
   "outputs": [
    {
     "data": {
      "text/plain": [
       "Date          object\n",
       "Open         float64\n",
       "High         float64\n",
       "Low          float64\n",
       "Close        float64\n",
       "Adj Close    float64\n",
       "Volume         int64\n",
       "dtype: object"
      ]
     },
     "execution_count": 8,
     "metadata": {},
     "output_type": "execute_result"
    }
   ],
   "source": [
    "df.dtypes"
   ]
  },
  {
   "cell_type": "code",
   "execution_count": null,
   "id": "80630ce2",
   "metadata": {},
   "outputs": [],
   "source": [
    "#Show the close values of stock"
   ]
  },
  {
   "cell_type": "code",
   "execution_count": 9,
   "id": "0e767645",
   "metadata": {},
   "outputs": [],
   "source": [
    "closed_prices = df[\"Close\"]"
   ]
  },
  {
   "cell_type": "code",
   "execution_count": 10,
   "id": "d2faceab",
   "metadata": {},
   "outputs": [],
   "source": [
    "#To set the sequence lenght\n",
    "seq_len = 15"
   ]
  },
  {
   "cell_type": "code",
   "execution_count": 11,
   "id": "71a59cb8",
   "metadata": {},
   "outputs": [],
   "source": [
    "# to set minimum and maximum scaler function \n",
    "mm = MinMaxScaler()\n",
    "scaled_price = mm.fit_transform(np.array(closed_prices)[... , None]).squeeze()"
   ]
  },
  {
   "cell_type": "code",
   "execution_count": 12,
   "id": "b451b74e",
   "metadata": {},
   "outputs": [],
   "source": [
    "X=[]\n",
    "Y=[]\n"
   ]
  },
  {
   "cell_type": "code",
   "execution_count": 13,
   "id": "d129b266",
   "metadata": {},
   "outputs": [],
   "source": [
    "for i in range(len(scaled_price) - seq_len):\n",
    "    X.append(scaled_price[i : i+ seq_len])\n",
    "    Y.append(scaled_price[i+seq_len])"
   ]
  },
  {
   "cell_type": "code",
   "execution_count": 14,
   "id": "bf21539d",
   "metadata": {},
   "outputs": [],
   "source": [
    "X = np.array(X)[... , None]\n",
    "Y = np.array(Y)[... ,None]"
   ]
  },
  {
   "cell_type": "code",
   "execution_count": 15,
   "id": "4bf9160a",
   "metadata": {},
   "outputs": [],
   "source": [
    "# train and test data\n",
    "train_x = torch.from_numpy(X[:int(0.8*X.shape[0])]).float()\n",
    "train_y = torch.from_numpy(Y[:int(0.8*Y.shape[0])]).float()\n",
    "test_x = torch.from_numpy(X[:int(0.8*X.shape[0])]).float()\n",
    "test_y = torch.from_numpy(Y[:int(0.8*Y.shape[0])]).float()\n"
   ]
  },
  {
   "cell_type": "code",
   "execution_count": 16,
   "id": "144faa47",
   "metadata": {},
   "outputs": [],
   "source": [
    "#Data Modelling \n",
    "class Model(nn.Module):\n",
    "    def __init__(self,input_size,hidden_size):\n",
    "        super().__init__()\n",
    "        self.lstm = nn.LSTM(input_size , hidden_size,batch_first=True)\n",
    "        self.fc=nn.Linear(hidden_size, 1)\n",
    "    def forward(self , x):\n",
    "        output,(hidden,cell)=self.lstm(x)\n",
    "        return self.fc(hidden[-1,:])"
   ]
  },
  {
   "cell_type": "code",
   "execution_count": 17,
   "id": "654fd8bd",
   "metadata": {},
   "outputs": [],
   "source": [
    "model = Model(1,64)"
   ]
  },
  {
   "cell_type": "code",
   "execution_count": 18,
   "id": "6ba8e08a",
   "metadata": {},
   "outputs": [],
   "source": [
    "optimizer=torch.optim.Adam(model.parameters(), lr=0.001)\n"
   ]
  },
  {
   "cell_type": "code",
   "execution_count": 19,
   "id": "9c0249a4",
   "metadata": {},
   "outputs": [],
   "source": [
    "loss_fn = nn.MSELoss()"
   ]
  },
  {
   "cell_type": "code",
   "execution_count": 20,
   "id": "4a92a662",
   "metadata": {},
   "outputs": [],
   "source": [
    "num_epochs=100"
   ]
  },
  {
   "cell_type": "code",
   "execution_count": 21,
   "id": "ce90d150",
   "metadata": {},
   "outputs": [
    {
     "name": "stdout",
     "output_type": "stream",
     "text": [
      "10 epoch loss 0.2293924\n",
      "20 epoch loss 0.039445486\n",
      "30 epoch loss 0.03561487\n",
      "40 epoch loss 0.030862277\n",
      "50 epoch loss 0.022173006\n",
      "60 epoch loss 0.013337862\n",
      "70 epoch loss 0.006997487\n",
      "80 epoch loss 0.005346574\n",
      "90 epoch loss 0.005339449\n"
     ]
    }
   ],
   "source": [
    "for epoch in range(num_epochs):\n",
    "    output = model(train_x)\n",
    "    loss=loss_fn(output,train_y)\n",
    "    \n",
    "    optimizer.zero_grad()\n",
    "    loss.backward()\n",
    "    optimizer.step()\n",
    "    \n",
    "    if epoch % 10==0 and epoch !=0:\n",
    "        print(epoch , \"epoch loss\", loss.detach().numpy())"
   ]
  },
  {
   "cell_type": "code",
   "execution_count": 22,
   "id": "ece1d751",
   "metadata": {},
   "outputs": [],
   "source": [
    "model.eval()\n",
    "with torch.no_grad():\n",
    "    output=model(test_x)\n"
   ]
  },
  {
   "cell_type": "code",
   "execution_count": 23,
   "id": "b296b65b",
   "metadata": {},
   "outputs": [],
   "source": [
    "# Prediction \n",
    "pred=mm.inverse_transform(output.numpy())\n",
    "real=mm.inverse_transform(test_y.numpy())"
   ]
  },
  {
   "cell_type": "code",
   "execution_count": 24,
   "id": "947340a7",
   "metadata": {},
   "outputs": [
    {
     "data": {
      "image/png": "[encoded data removed]",
      "text/plain": [
       "<Figure size 640x480 with 1 Axes>"
      ]
     },
     "metadata": {},
     "output_type": "display_data"
    }
   ],
   "source": [
    "plt.plot(pred.squeeze(),color=\"red\",label=\"predicted\")\n",
    "plt.plot(real.squeeze(),color=\"green\",label=\"real\")\n",
    "plt.show()\n",
    "\n"
   ]
  },
  {
   "cell_type": "code",
   "execution_count": null,
   "id": "bcb89074",
   "metadata": {},
   "outputs": [],
   "source": []
  }
 ],
 "metadata": {
  "kernelspec": {
   "display_name": "Python 3 (ipykernel)",
   "language": "python",
   "name": "python3"
  },
  "language_info": {
   "codemirror_mode": {
    "name": "ipython",
    "version": 3
   },
   "file_extension": ".py",
   "mimetype": "text/x-python",
   "name": "python",
   "nbconvert_exporter": "python",
   "pygments_lexer": "ipython3",
   "version": "3.10.9"
  }
 },
 "nbformat": 4,
 "nbformat_minor": 5
}
